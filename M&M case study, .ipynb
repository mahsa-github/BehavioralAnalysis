{
 "cells": [
  {
   "cell_type": "markdown",
   "metadata": {},
   "source": [
    "The AirCnC M&M product manager for the Mansios and Manors category has just run\n",
    "an ad to encourage customers to upgrade and consider M&M property for thier next booking. after the result came out, the booking rate is lower for customers who had seen the ad, even when filtering down to the customers considering an M&M property only. "
   ]
  },
  {
   "cell_type": "code",
   "execution_count": 24,
   "metadata": {},
   "outputs": [],
   "source": [
    "import pandas as pd\n",
    "from statsmodels.formula.api import ols\n",
    "import matplotlib.pyplot as plt\n",
    "import seaborn as sns\n",
    "import numpy as np\n",
    "import statsmodels.formula.api as smf"
   ]
  },
  {
   "cell_type": "code",
   "execution_count": 2,
   "metadata": {},
   "outputs": [],
   "source": [
    "df = pd.read_csv (r'D:\\2024\\data science portfolio\\Custoemr behavior analysis Oreilly\\data\\AirCnC_MnM_exercises_data.csv')"
   ]
  },
  {
   "cell_type": "code",
   "execution_count": 15,
   "metadata": {},
   "outputs": [
    {
     "data": {
      "text/html": [
       "<div>\n",
       "<style scoped>\n",
       "    .dataframe tbody tr th:only-of-type {\n",
       "        vertical-align: middle;\n",
       "    }\n",
       "\n",
       "    .dataframe tbody tr th {\n",
       "        vertical-align: top;\n",
       "    }\n",
       "\n",
       "    .dataframe thead th {\n",
       "        text-align: right;\n",
       "    }\n",
       "</style>\n",
       "<table border=\"1\" class=\"dataframe\">\n",
       "  <thead>\n",
       "    <tr style=\"text-align: right;\">\n",
       "      <th></th>\n",
       "      <th>bkg_rate</th>\n",
       "    </tr>\n",
       "    <tr>\n",
       "      <th>ad</th>\n",
       "      <th></th>\n",
       "    </tr>\n",
       "  </thead>\n",
       "  <tbody>\n",
       "    <tr>\n",
       "      <th>0</th>\n",
       "      <td>0.464139</td>\n",
       "    </tr>\n",
       "    <tr>\n",
       "      <th>1</th>\n",
       "      <td>0.448417</td>\n",
       "    </tr>\n",
       "  </tbody>\n",
       "</table>\n",
       "</div>"
      ],
      "text/plain": [
       "    bkg_rate\n",
       "ad          \n",
       "0   0.464139\n",
       "1   0.448417"
      ]
     },
     "execution_count": 15,
     "metadata": {},
     "output_type": "execute_result"
    }
   ],
   "source": [
    "# The booking rate is lower for customers who have seen the ad\n",
    "df.groupby('ad').agg(bkg_rate = ('bkd', lambda x: np.mean(x)))"
   ]
  },
  {
   "cell_type": "markdown",
   "metadata": {},
   "source": [
    "Description: \n",
    "- period: numeric variable, taking the values 0 (preliminary period before the ad was run) and 1 (period when the ad was run)\n",
    "- income: numeric variable, indicating the income of the customer\n",
    "- ad: binary variable, 0 for customers who haven't been served the ad, 1 for customers who have been served the ad\n",
    "- mm: \"considered a Mansion & Manor property\", binary variable, 0 for customers who didn't consider an M&M property, 1 for customers who considered an M&M property\n",
    "- bkd: \"booked property\", binary variable, 0 for customers who didn't book the property they were considering, 1 for customers who booked the property they were considering"
   ]
  },
  {
   "cell_type": "markdown",
   "metadata": {},
   "source": [
    "What is the booking rate for customers who have seen the ad, restricting to customers considering an M&M property? Customers who haven’t seen the ad, with the same restriction?"
   ]
  },
  {
   "cell_type": "code",
   "execution_count": 17,
   "metadata": {},
   "outputs": [],
   "source": [
    "filtered_df1 =df[(df['ad']==1)& (df['mm']==1)]"
   ]
  },
  {
   "cell_type": "code",
   "execution_count": 19,
   "metadata": {},
   "outputs": [
    {
     "data": {
      "text/html": [
       "<div>\n",
       "<style scoped>\n",
       "    .dataframe tbody tr th:only-of-type {\n",
       "        vertical-align: middle;\n",
       "    }\n",
       "\n",
       "    .dataframe tbody tr th {\n",
       "        vertical-align: top;\n",
       "    }\n",
       "\n",
       "    .dataframe thead th {\n",
       "        text-align: right;\n",
       "    }\n",
       "</style>\n",
       "<table border=\"1\" class=\"dataframe\">\n",
       "  <thead>\n",
       "    <tr style=\"text-align: right;\">\n",
       "      <th></th>\n",
       "      <th>bkg_rate</th>\n",
       "    </tr>\n",
       "    <tr>\n",
       "      <th>ad</th>\n",
       "      <th></th>\n",
       "    </tr>\n",
       "  </thead>\n",
       "  <tbody>\n",
       "    <tr>\n",
       "      <th>1</th>\n",
       "      <td>0.911111</td>\n",
       "    </tr>\n",
       "  </tbody>\n",
       "</table>\n",
       "</div>"
      ],
      "text/plain": [
       "    bkg_rate\n",
       "ad          \n",
       "1   0.911111"
      ]
     },
     "execution_count": 19,
     "metadata": {},
     "output_type": "execute_result"
    }
   ],
   "source": [
    "filtered_df1.groupby('ad').agg(bkg_rate = ('bkd', lambda x: np.mean(x)))"
   ]
  },
  {
   "cell_type": "code",
   "execution_count": 21,
   "metadata": {},
   "outputs": [],
   "source": [
    "filtered_df2 =df[(df['ad']==0)& (df['mm']==1)]"
   ]
  },
  {
   "cell_type": "code",
   "execution_count": 22,
   "metadata": {},
   "outputs": [
    {
     "data": {
      "text/html": [
       "<div>\n",
       "<style scoped>\n",
       "    .dataframe tbody tr th:only-of-type {\n",
       "        vertical-align: middle;\n",
       "    }\n",
       "\n",
       "    .dataframe tbody tr th {\n",
       "        vertical-align: top;\n",
       "    }\n",
       "\n",
       "    .dataframe thead th {\n",
       "        text-align: right;\n",
       "    }\n",
       "</style>\n",
       "<table border=\"1\" class=\"dataframe\">\n",
       "  <thead>\n",
       "    <tr style=\"text-align: right;\">\n",
       "      <th></th>\n",
       "      <th>bkg_rate</th>\n",
       "    </tr>\n",
       "    <tr>\n",
       "      <th>ad</th>\n",
       "      <th></th>\n",
       "    </tr>\n",
       "  </thead>\n",
       "  <tbody>\n",
       "    <tr>\n",
       "      <th>0</th>\n",
       "      <td>0.932051</td>\n",
       "    </tr>\n",
       "  </tbody>\n",
       "</table>\n",
       "</div>"
      ],
      "text/plain": [
       "    bkg_rate\n",
       "ad          \n",
       "0   0.932051"
      ]
     },
     "execution_count": 22,
     "metadata": {},
     "output_type": "execute_result"
    }
   ],
   "source": [
    "filtered_df2.groupby('ad').agg(bkg_rate = ('bkd', lambda x: np.mean(x)))"
   ]
  },
  {
   "cell_type": "code",
   "execution_count": 23,
   "metadata": {},
   "outputs": [
    {
     "data": {
      "text/html": [
       "<div>\n",
       "<style scoped>\n",
       "    .dataframe tbody tr th:only-of-type {\n",
       "        vertical-align: middle;\n",
       "    }\n",
       "\n",
       "    .dataframe tbody tr th {\n",
       "        vertical-align: top;\n",
       "    }\n",
       "\n",
       "    .dataframe thead th {\n",
       "        text-align: right;\n",
       "    }\n",
       "</style>\n",
       "<table border=\"1\" class=\"dataframe\">\n",
       "  <thead>\n",
       "    <tr style=\"text-align: right;\">\n",
       "      <th></th>\n",
       "      <th>bkg_rate</th>\n",
       "    </tr>\n",
       "    <tr>\n",
       "      <th>ad</th>\n",
       "      <th></th>\n",
       "    </tr>\n",
       "  </thead>\n",
       "  <tbody>\n",
       "    <tr>\n",
       "      <th>0</th>\n",
       "      <td>0.932051</td>\n",
       "    </tr>\n",
       "    <tr>\n",
       "      <th>1</th>\n",
       "      <td>0.911111</td>\n",
       "    </tr>\n",
       "  </tbody>\n",
       "</table>\n",
       "</div>"
      ],
      "text/plain": [
       "    bkg_rate\n",
       "ad          \n",
       "0   0.932051\n",
       "1   0.911111"
      ]
     },
     "execution_count": 23,
     "metadata": {},
     "output_type": "execute_result"
    }
   ],
   "source": [
    "# This remains true even when restricting to customers considering an M&M property\n",
    "df[(df['mm']==1)].groupby('ad').agg(bkg_rate = ('bkd', lambda x: np.mean(x)))"
   ]
  },
  {
   "cell_type": "markdown",
   "metadata": {},
   "source": [
    "## Understanding the behavior \n",
    "\n",
    "1.a. What are the behavioral categories for the variables in the data (Income, Ad, MM, Bkd)?\n",
    "\n",
    "Income is a personal characteristic. Ad is a business behavior. MM is a customer behavior. Bkd is a customer behavior.\n",
    "\n",
    "1.b. What is (are) the goal(s) of the ad?\n",
    "\n",
    "The goals of the ad are\n",
    "\n",
    "to increase the percentage of customers who consider an M&M property\n",
    "to increase the percentage of customers who book an M&M property"
   ]
  },
  {
   "cell_type": "code",
   "execution_count": 25,
   "metadata": {},
   "outputs": [
    {
     "name": "stdout",
     "output_type": "stream",
     "text": [
      "Optimization terminated successfully.\n",
      "         Current function value: 0.295525\n",
      "         Iterations 6\n"
     ]
    },
    {
     "data": {
      "text/html": [
       "<table class=\"simpletable\">\n",
       "<caption>Logit Regression Results</caption>\n",
       "<tr>\n",
       "  <th>Dep. Variable:</th>          <td>mm</td>        <th>  No. Observations:  </th>  <td> 10000</td>  \n",
       "</tr>\n",
       "<tr>\n",
       "  <th>Model:</th>                 <td>Logit</td>      <th>  Df Residuals:      </th>  <td>  9998</td>  \n",
       "</tr>\n",
       "<tr>\n",
       "  <th>Method:</th>                 <td>MLE</td>       <th>  Df Model:          </th>  <td>     1</td>  \n",
       "</tr>\n",
       "<tr>\n",
       "  <th>Date:</th>            <td>Wed, 18 Sep 2024</td> <th>  Pseudo R-squ.:     </th> <td>5.536e-05</td>\n",
       "</tr>\n",
       "<tr>\n",
       "  <th>Time:</th>                <td>18:36:22</td>     <th>  Log-Likelihood:    </th> <td> -2955.3</td> \n",
       "</tr>\n",
       "<tr>\n",
       "  <th>converged:</th>             <td>True</td>       <th>  LL-Null:           </th> <td> -2955.4</td> \n",
       "</tr>\n",
       "<tr>\n",
       "  <th>Covariance Type:</th>     <td>nonrobust</td>    <th>  LLR p-value:       </th>  <td>0.5673</td>  \n",
       "</tr>\n",
       "</table>\n",
       "<table class=\"simpletable\">\n",
       "<tr>\n",
       "      <td></td>         <th>coef</th>     <th>std err</th>      <th>z</th>      <th>P>|z|</th>  <th>[0.025</th>    <th>0.975]</th>  \n",
       "</tr>\n",
       "<tr>\n",
       "  <th>Intercept</th> <td>   -2.3576</td> <td>    0.037</td> <td>  -62.933</td> <td> 0.000</td> <td>   -2.431</td> <td>   -2.284</td>\n",
       "</tr>\n",
       "<tr>\n",
       "  <th>ad</th>        <td>    0.0673</td> <td>    0.117</td> <td>    0.576</td> <td> 0.564</td> <td>   -0.162</td> <td>    0.296</td>\n",
       "</tr>\n",
       "</table>"
      ],
      "text/latex": [
       "\\begin{center}\n",
       "\\begin{tabular}{lclc}\n",
       "\\toprule\n",
       "\\textbf{Dep. Variable:}   &        mm        & \\textbf{  No. Observations:  } &    10000    \\\\\n",
       "\\textbf{Model:}           &      Logit       & \\textbf{  Df Residuals:      } &     9998    \\\\\n",
       "\\textbf{Method:}          &       MLE        & \\textbf{  Df Model:          } &        1    \\\\\n",
       "\\textbf{Date:}            & Wed, 18 Sep 2024 & \\textbf{  Pseudo R-squ.:     } & 5.536e-05   \\\\\n",
       "\\textbf{Time:}            &     18:36:22     & \\textbf{  Log-Likelihood:    } &   -2955.3   \\\\\n",
       "\\textbf{converged:}       &       True       & \\textbf{  LL-Null:           } &   -2955.4   \\\\\n",
       "\\textbf{Covariance Type:} &    nonrobust     & \\textbf{  LLR p-value:       } &   0.5673    \\\\\n",
       "\\bottomrule\n",
       "\\end{tabular}\n",
       "\\begin{tabular}{lcccccc}\n",
       "                   & \\textbf{coef} & \\textbf{std err} & \\textbf{z} & \\textbf{P$> |$z$|$} & \\textbf{[0.025} & \\textbf{0.975]}  \\\\\n",
       "\\midrule\n",
       "\\textbf{Intercept} &      -2.3576  &        0.037     &   -62.933  &         0.000        &       -2.431    &       -2.284     \\\\\n",
       "\\textbf{ad}        &       0.0673  &        0.117     &     0.576  &         0.564        &       -0.162    &        0.296     \\\\\n",
       "\\bottomrule\n",
       "\\end{tabular}\n",
       "%\\caption{Logit Regression Results}\n",
       "\\end{center}"
      ],
      "text/plain": [
       "<class 'statsmodels.iolib.summary.Summary'>\n",
       "\"\"\"\n",
       "                           Logit Regression Results                           \n",
       "==============================================================================\n",
       "Dep. Variable:                     mm   No. Observations:                10000\n",
       "Model:                          Logit   Df Residuals:                     9998\n",
       "Method:                           MLE   Df Model:                            1\n",
       "Date:                Wed, 18 Sep 2024   Pseudo R-squ.:               5.536e-05\n",
       "Time:                        18:36:22   Log-Likelihood:                -2955.3\n",
       "converged:                       True   LL-Null:                       -2955.4\n",
       "Covariance Type:            nonrobust   LLR p-value:                    0.5673\n",
       "==============================================================================\n",
       "                 coef    std err          z      P>|z|      [0.025      0.975]\n",
       "------------------------------------------------------------------------------\n",
       "Intercept     -2.3576      0.037    -62.933      0.000      -2.431      -2.284\n",
       "ad             0.0673      0.117      0.576      0.564      -0.162       0.296\n",
       "==============================================================================\n",
       "\"\"\""
      ]
     },
     "execution_count": 25,
     "metadata": {},
     "output_type": "execute_result"
    }
   ],
   "source": [
    "# The ad indeed increases the probability that a customer will consider an M&M property\n",
    "mod_mm = smf.logit('mm ~ ad', data = df)\n",
    "res_mm = mod_mm.fit()\n",
    "res_mm.summary()"
   ]
  },
  {
   "cell_type": "markdown",
   "metadata": {},
   "source": [
    "The coefficient for ad is 0.0673, but with a high p-value (0.564), indicating it is not statistically significant. This means that showing an ad does not significantly increase the probability that a customer will consider an M&M property in this model."
   ]
  },
  {
   "cell_type": "code",
   "execution_count": 26,
   "metadata": {},
   "outputs": [
    {
     "name": "stdout",
     "output_type": "stream",
     "text": [
      "Optimization terminated successfully.\n",
      "         Current function value: 0.280956\n",
      "         Iterations 6\n"
     ]
    },
    {
     "data": {
      "text/html": [
       "<table class=\"simpletable\">\n",
       "<caption>Logit Regression Results</caption>\n",
       "<tr>\n",
       "  <th>Dep. Variable:</th>        <td>bkd_mm</td>      <th>  No. Observations:  </th>  <td> 10000</td>  \n",
       "</tr>\n",
       "<tr>\n",
       "  <th>Model:</th>                 <td>Logit</td>      <th>  Df Residuals:      </th>  <td>  9998</td>  \n",
       "</tr>\n",
       "<tr>\n",
       "  <th>Method:</th>                 <td>MLE</td>       <th>  Df Model:          </th>  <td>     1</td>  \n",
       "</tr>\n",
       "<tr>\n",
       "  <th>Date:</th>            <td>Wed, 18 Sep 2024</td> <th>  Pseudo R-squ.:     </th> <td>2.103e-05</td>\n",
       "</tr>\n",
       "<tr>\n",
       "  <th>Time:</th>                <td>18:37:17</td>     <th>  Log-Likelihood:    </th> <td> -2809.6</td> \n",
       "</tr>\n",
       "<tr>\n",
       "  <th>converged:</th>             <td>True</td>       <th>  LL-Null:           </th> <td> -2809.6</td> \n",
       "</tr>\n",
       "<tr>\n",
       "  <th>Covariance Type:</th>     <td>nonrobust</td>    <th>  LLR p-value:       </th>  <td>0.7310</td>  \n",
       "</tr>\n",
       "</table>\n",
       "<table class=\"simpletable\">\n",
       "<tr>\n",
       "      <td></td>         <th>coef</th>     <th>std err</th>      <th>z</th>      <th>P>|z|</th>  <th>[0.025</th>    <th>0.975]</th>  \n",
       "</tr>\n",
       "<tr>\n",
       "  <th>Intercept</th> <td>   -2.4344</td> <td>    0.039</td> <td>  -62.937</td> <td> 0.000</td> <td>   -2.510</td> <td>   -2.359</td>\n",
       "</tr>\n",
       "<tr>\n",
       "  <th>ad</th>        <td>    0.0420</td> <td>    0.122</td> <td>    0.345</td> <td> 0.730</td> <td>   -0.196</td> <td>    0.281</td>\n",
       "</tr>\n",
       "</table>"
      ],
      "text/latex": [
       "\\begin{center}\n",
       "\\begin{tabular}{lclc}\n",
       "\\toprule\n",
       "\\textbf{Dep. Variable:}   &     bkd\\_mm      & \\textbf{  No. Observations:  } &    10000    \\\\\n",
       "\\textbf{Model:}           &      Logit       & \\textbf{  Df Residuals:      } &     9998    \\\\\n",
       "\\textbf{Method:}          &       MLE        & \\textbf{  Df Model:          } &        1    \\\\\n",
       "\\textbf{Date:}            & Wed, 18 Sep 2024 & \\textbf{  Pseudo R-squ.:     } & 2.103e-05   \\\\\n",
       "\\textbf{Time:}            &     18:37:17     & \\textbf{  Log-Likelihood:    } &   -2809.6   \\\\\n",
       "\\textbf{converged:}       &       True       & \\textbf{  LL-Null:           } &   -2809.6   \\\\\n",
       "\\textbf{Covariance Type:} &    nonrobust     & \\textbf{  LLR p-value:       } &   0.7310    \\\\\n",
       "\\bottomrule\n",
       "\\end{tabular}\n",
       "\\begin{tabular}{lcccccc}\n",
       "                   & \\textbf{coef} & \\textbf{std err} & \\textbf{z} & \\textbf{P$> |$z$|$} & \\textbf{[0.025} & \\textbf{0.975]}  \\\\\n",
       "\\midrule\n",
       "\\textbf{Intercept} &      -2.4344  &        0.039     &   -62.937  &         0.000        &       -2.510    &       -2.359     \\\\\n",
       "\\textbf{ad}        &       0.0420  &        0.122     &     0.345  &         0.730        &       -0.196    &        0.281     \\\\\n",
       "\\bottomrule\n",
       "\\end{tabular}\n",
       "%\\caption{Logit Regression Results}\n",
       "\\end{center}"
      ],
      "text/plain": [
       "<class 'statsmodels.iolib.summary.Summary'>\n",
       "\"\"\"\n",
       "                           Logit Regression Results                           \n",
       "==============================================================================\n",
       "Dep. Variable:                 bkd_mm   No. Observations:                10000\n",
       "Model:                          Logit   Df Residuals:                     9998\n",
       "Method:                           MLE   Df Model:                            1\n",
       "Date:                Wed, 18 Sep 2024   Pseudo R-squ.:               2.103e-05\n",
       "Time:                        18:37:17   Log-Likelihood:                -2809.6\n",
       "converged:                       True   LL-Null:                       -2809.6\n",
       "Covariance Type:            nonrobust   LLR p-value:                    0.7310\n",
       "==============================================================================\n",
       "                 coef    std err          z      P>|z|      [0.025      0.975]\n",
       "------------------------------------------------------------------------------\n",
       "Intercept     -2.4344      0.039    -62.937      0.000      -2.510      -2.359\n",
       "ad             0.0420      0.122      0.345      0.730      -0.196       0.281\n",
       "==============================================================================\n",
       "\"\"\""
      ]
     },
     "execution_count": 26,
     "metadata": {},
     "output_type": "execute_result"
    }
   ],
   "source": [
    "#The ad increases the probability that a customer will book an M&M property\n",
    "df['bkd_mm'] = df['bkd'] * df['mm'] # Equal to 1 if and only if a customer books an M&M property\n",
    "\n",
    "mod_bkd_mm = smf.logit('bkd_mm ~ ad', data = df)\n",
    "res_bkd_mm = mod_bkd_mm.fit()\n",
    "res_bkd_mm.summary()"
   ]
  },
  {
   "cell_type": "markdown",
   "metadata": {},
   "source": [
    "•  Method: MLE (Maximum Likelihood Estimation).\n",
    "\n",
    "•  Pseudo R-squ.: 2.103e-05 (a measure of model fit, very low in this case).\n",
    "\n",
    "•  Log-Likelihood: -2809.6 (a measure of model fit, lower is better).\n",
    "\n",
    "•  Converged: True (the model fitting process was successful)."
   ]
  },
  {
   "cell_type": "markdown",
   "metadata": {},
   "source": [
    "The coefficient for ad is 0.0420, but with a high p-value (0.730), indicating it is not statistically significant. This means that showing an ad does not significantly increase the probability that a customer will book an M&M property in this model."
   ]
  },
  {
   "cell_type": "markdown",
   "metadata": {},
   "source": [
    "## Summary\n",
    "The logistic regression model was used to see if showing an ad (ad) increases the likelihood of a customer booking an M&M property (bkd_mm). The results show that the ad's effect is not statistically significant, meaning it doesn't have a strong impact on the outcome in this dataset."
   ]
  },
  {
   "cell_type": "markdown",
   "metadata": {},
   "source": [
    "Income affect booking "
   ]
  },
  {
   "cell_type": "code",
   "execution_count": 27,
   "metadata": {},
   "outputs": [
    {
     "name": "stdout",
     "output_type": "stream",
     "text": [
      "Optimization terminated successfully.\n",
      "         Current function value: 0.092007\n",
      "         Iterations 9\n"
     ]
    },
    {
     "data": {
      "text/html": [
       "<table class=\"simpletable\">\n",
       "<caption>Logit Regression Results</caption>\n",
       "<tr>\n",
       "  <th>Dep. Variable:</th>          <td>mm</td>        <th>  No. Observations:  </th>  <td>  8489</td> \n",
       "</tr>\n",
       "<tr>\n",
       "  <th>Model:</th>                 <td>Logit</td>      <th>  Df Residuals:      </th>  <td>  8486</td> \n",
       "</tr>\n",
       "<tr>\n",
       "  <th>Method:</th>                 <td>MLE</td>       <th>  Df Model:          </th>  <td>     2</td> \n",
       "</tr>\n",
       "<tr>\n",
       "  <th>Date:</th>            <td>Wed, 18 Sep 2024</td> <th>  Pseudo R-squ.:     </th>  <td>0.6023</td> \n",
       "</tr>\n",
       "<tr>\n",
       "  <th>Time:</th>                <td>18:38:44</td>     <th>  Log-Likelihood:    </th> <td> -781.04</td>\n",
       "</tr>\n",
       "<tr>\n",
       "  <th>converged:</th>             <td>True</td>       <th>  LL-Null:           </th> <td> -1964.1</td>\n",
       "</tr>\n",
       "<tr>\n",
       "  <th>Covariance Type:</th>     <td>nonrobust</td>    <th>  LLR p-value:       </th>  <td> 0.000</td> \n",
       "</tr>\n",
       "</table>\n",
       "<table class=\"simpletable\">\n",
       "<tr>\n",
       "      <td></td>         <th>coef</th>     <th>std err</th>      <th>z</th>      <th>P>|z|</th>  <th>[0.025</th>    <th>0.975]</th>  \n",
       "</tr>\n",
       "<tr>\n",
       "  <th>Intercept</th> <td>   -5.0019</td> <td>    0.119</td> <td>  -41.925</td> <td> 0.000</td> <td>   -5.236</td> <td>   -4.768</td>\n",
       "</tr>\n",
       "<tr>\n",
       "  <th>income</th>    <td> 9.768e-06</td> <td> 3.47e-07</td> <td>   28.160</td> <td> 0.000</td> <td> 9.09e-06</td> <td> 1.04e-05</td>\n",
       "</tr>\n",
       "<tr>\n",
       "  <th>ad</th>        <td>    0.4934</td> <td>    0.464</td> <td>    1.063</td> <td> 0.288</td> <td>   -0.417</td> <td>    1.403</td>\n",
       "</tr>\n",
       "</table>"
      ],
      "text/latex": [
       "\\begin{center}\n",
       "\\begin{tabular}{lclc}\n",
       "\\toprule\n",
       "\\textbf{Dep. Variable:}   &        mm        & \\textbf{  No. Observations:  } &     8489    \\\\\n",
       "\\textbf{Model:}           &      Logit       & \\textbf{  Df Residuals:      } &     8486    \\\\\n",
       "\\textbf{Method:}          &       MLE        & \\textbf{  Df Model:          } &        2    \\\\\n",
       "\\textbf{Date:}            & Wed, 18 Sep 2024 & \\textbf{  Pseudo R-squ.:     } &   0.6023    \\\\\n",
       "\\textbf{Time:}            &     18:38:44     & \\textbf{  Log-Likelihood:    } &   -781.04   \\\\\n",
       "\\textbf{converged:}       &       True       & \\textbf{  LL-Null:           } &   -1964.1   \\\\\n",
       "\\textbf{Covariance Type:} &    nonrobust     & \\textbf{  LLR p-value:       } &    0.000    \\\\\n",
       "\\bottomrule\n",
       "\\end{tabular}\n",
       "\\begin{tabular}{lcccccc}\n",
       "                   & \\textbf{coef} & \\textbf{std err} & \\textbf{z} & \\textbf{P$> |$z$|$} & \\textbf{[0.025} & \\textbf{0.975]}  \\\\\n",
       "\\midrule\n",
       "\\textbf{Intercept} &      -5.0019  &        0.119     &   -41.925  &         0.000        &       -5.236    &       -4.768     \\\\\n",
       "\\textbf{income}    &    9.768e-06  &     3.47e-07     &    28.160  &         0.000        &     9.09e-06    &     1.04e-05     \\\\\n",
       "\\textbf{ad}        &       0.4934  &        0.464     &     1.063  &         0.288        &       -0.417    &        1.403     \\\\\n",
       "\\bottomrule\n",
       "\\end{tabular}\n",
       "%\\caption{Logit Regression Results}\n",
       "\\end{center}"
      ],
      "text/plain": [
       "<class 'statsmodels.iolib.summary.Summary'>\n",
       "\"\"\"\n",
       "                           Logit Regression Results                           \n",
       "==============================================================================\n",
       "Dep. Variable:                     mm   No. Observations:                 8489\n",
       "Model:                          Logit   Df Residuals:                     8486\n",
       "Method:                           MLE   Df Model:                            2\n",
       "Date:                Wed, 18 Sep 2024   Pseudo R-squ.:                  0.6023\n",
       "Time:                        18:38:44   Log-Likelihood:                -781.04\n",
       "converged:                       True   LL-Null:                       -1964.1\n",
       "Covariance Type:            nonrobust   LLR p-value:                     0.000\n",
       "==============================================================================\n",
       "                 coef    std err          z      P>|z|      [0.025      0.975]\n",
       "------------------------------------------------------------------------------\n",
       "Intercept     -5.0019      0.119    -41.925      0.000      -5.236      -4.768\n",
       "income      9.768e-06   3.47e-07     28.160      0.000    9.09e-06    1.04e-05\n",
       "ad             0.4934      0.464      1.063      0.288      -0.417       1.403\n",
       "==============================================================================\n",
       "\"\"\""
      ]
     },
     "execution_count": 27,
     "metadata": {},
     "output_type": "execute_result"
    }
   ],
   "source": [
    "# Income increases the probability that a customer will consider an M&M property\n",
    "mod_mm = smf.logit('mm ~ income + ad', data = df)  #This line defines a logistic regression model where mm (considering an M&M property) is \n",
    "#the dependent variable, and income and ad (whether an ad was shown) are the independent variables.\n",
    "res_mm = mod_mm.fit()\n",
    "res_mm.summary()"
   ]
  },
  {
   "cell_type": "markdown",
   "metadata": {},
   "source": [
    "The coefficient for the intercept being -5.0019 means that, when both income and ad are zero, the log-odds of a customer considering an M&M property (mm) is -5.0019.the intercept value of -5.0019 tells us that if we don't consider the effects of income and ads, the chance of a customer considering an M&M property is very low."
   ]
  },
  {
   "cell_type": "markdown",
   "metadata": {},
   "source": [
    "1. Coefficients Table:\n",
    "•  Intercept: The coefficient for the intercept is -5.0019, with a very small p-value (0.000), indicating it is statistically significant.\n",
    "\n",
    "•  income: The coefficient for income is 9.768e-06, with a very small p-value (0.000), indicating it is statistically significant. This means that income has a significant positive effect on the likelihood of considering an M&M property.\n",
    "\n",
    "•  ad: The coefficient for ad is 0.4934, but with a high p-value (0.288), indicating it is not statistically significant. This means that showing an ad does not significantly increase the probability that a customer will consider an M&M property in this model.\n",
    "\n",
    "Summary\n",
    "The logistic regression model was used to see if income and showing an ad (ad) increase the likelihood of a customer considering an M&M property (mm). The results show that income has a significant positive effect, meaning higher income increases the likelihood of considering an M&M property. However, the ad's effect is not statistically significant, meaning it doesn't have a strong impact on the outcome in this dataset."
   ]
  },
  {
   "cell_type": "code",
   "execution_count": 28,
   "metadata": {},
   "outputs": [
    {
     "name": "stdout",
     "output_type": "stream",
     "text": [
      "Optimization terminated successfully.\n",
      "         Current function value: 0.064053\n",
      "         Iterations 9\n"
     ]
    },
    {
     "data": {
      "text/html": [
       "<table class=\"simpletable\">\n",
       "<caption>Logit Regression Results</caption>\n",
       "<tr>\n",
       "  <th>Dep. Variable:</th>        <td>bkd_mm</td>      <th>  No. Observations:  </th>  <td>  8489</td> \n",
       "</tr>\n",
       "<tr>\n",
       "  <th>Model:</th>                 <td>Logit</td>      <th>  Df Residuals:      </th>  <td>  8486</td> \n",
       "</tr>\n",
       "<tr>\n",
       "  <th>Method:</th>                 <td>MLE</td>       <th>  Df Model:          </th>  <td>     2</td> \n",
       "</tr>\n",
       "<tr>\n",
       "  <th>Date:</th>            <td>Wed, 18 Sep 2024</td> <th>  Pseudo R-squ.:     </th>  <td>0.7007</td> \n",
       "</tr>\n",
       "<tr>\n",
       "  <th>Time:</th>                <td>18:39:08</td>     <th>  Log-Likelihood:    </th> <td> -543.74</td>\n",
       "</tr>\n",
       "<tr>\n",
       "  <th>converged:</th>             <td>True</td>       <th>  LL-Null:           </th> <td> -1816.8</td>\n",
       "</tr>\n",
       "<tr>\n",
       "  <th>Covariance Type:</th>     <td>nonrobust</td>    <th>  LLR p-value:       </th>  <td> 0.000</td> \n",
       "</tr>\n",
       "</table>\n",
       "<table class=\"simpletable\">\n",
       "<tr>\n",
       "      <td></td>         <th>coef</th>     <th>std err</th>      <th>z</th>      <th>P>|z|</th>  <th>[0.025</th>    <th>0.975]</th>  \n",
       "</tr>\n",
       "<tr>\n",
       "  <th>Intercept</th> <td>   -5.7731</td> <td>    0.161</td> <td>  -35.783</td> <td> 0.000</td> <td>   -6.089</td> <td>   -5.457</td>\n",
       "</tr>\n",
       "<tr>\n",
       "  <th>income</th>    <td> 1.127e-05</td> <td> 4.23e-07</td> <td>   26.658</td> <td> 0.000</td> <td> 1.04e-05</td> <td> 1.21e-05</td>\n",
       "</tr>\n",
       "<tr>\n",
       "  <th>ad</th>        <td>    0.2978</td> <td>    0.725</td> <td>    0.411</td> <td> 0.681</td> <td>   -1.124</td> <td>    1.719</td>\n",
       "</tr>\n",
       "</table>"
      ],
      "text/latex": [
       "\\begin{center}\n",
       "\\begin{tabular}{lclc}\n",
       "\\toprule\n",
       "\\textbf{Dep. Variable:}   &     bkd\\_mm      & \\textbf{  No. Observations:  } &     8489    \\\\\n",
       "\\textbf{Model:}           &      Logit       & \\textbf{  Df Residuals:      } &     8486    \\\\\n",
       "\\textbf{Method:}          &       MLE        & \\textbf{  Df Model:          } &        2    \\\\\n",
       "\\textbf{Date:}            & Wed, 18 Sep 2024 & \\textbf{  Pseudo R-squ.:     } &   0.7007    \\\\\n",
       "\\textbf{Time:}            &     18:39:08     & \\textbf{  Log-Likelihood:    } &   -543.74   \\\\\n",
       "\\textbf{converged:}       &       True       & \\textbf{  LL-Null:           } &   -1816.8   \\\\\n",
       "\\textbf{Covariance Type:} &    nonrobust     & \\textbf{  LLR p-value:       } &    0.000    \\\\\n",
       "\\bottomrule\n",
       "\\end{tabular}\n",
       "\\begin{tabular}{lcccccc}\n",
       "                   & \\textbf{coef} & \\textbf{std err} & \\textbf{z} & \\textbf{P$> |$z$|$} & \\textbf{[0.025} & \\textbf{0.975]}  \\\\\n",
       "\\midrule\n",
       "\\textbf{Intercept} &      -5.7731  &        0.161     &   -35.783  &         0.000        &       -6.089    &       -5.457     \\\\\n",
       "\\textbf{income}    &    1.127e-05  &     4.23e-07     &    26.658  &         0.000        &     1.04e-05    &     1.21e-05     \\\\\n",
       "\\textbf{ad}        &       0.2978  &        0.725     &     0.411  &         0.681        &       -1.124    &        1.719     \\\\\n",
       "\\bottomrule\n",
       "\\end{tabular}\n",
       "%\\caption{Logit Regression Results}\n",
       "\\end{center}"
      ],
      "text/plain": [
       "<class 'statsmodels.iolib.summary.Summary'>\n",
       "\"\"\"\n",
       "                           Logit Regression Results                           \n",
       "==============================================================================\n",
       "Dep. Variable:                 bkd_mm   No. Observations:                 8489\n",
       "Model:                          Logit   Df Residuals:                     8486\n",
       "Method:                           MLE   Df Model:                            2\n",
       "Date:                Wed, 18 Sep 2024   Pseudo R-squ.:                  0.7007\n",
       "Time:                        18:39:08   Log-Likelihood:                -543.74\n",
       "converged:                       True   LL-Null:                       -1816.8\n",
       "Covariance Type:            nonrobust   LLR p-value:                     0.000\n",
       "==============================================================================\n",
       "                 coef    std err          z      P>|z|      [0.025      0.975]\n",
       "------------------------------------------------------------------------------\n",
       "Intercept     -5.7731      0.161    -35.783      0.000      -6.089      -5.457\n",
       "income      1.127e-05   4.23e-07     26.658      0.000    1.04e-05    1.21e-05\n",
       "ad             0.2978      0.725      0.411      0.681      -1.124       1.719\n",
       "==============================================================================\n",
       "\"\"\""
      ]
     },
     "execution_count": 28,
     "metadata": {},
     "output_type": "execute_result"
    }
   ],
   "source": [
    "# Income increases the probability that a customer will book an M&M property\n",
    "mod_bkd_mm = smf.logit('bkd_mm ~ income + ad', data = df)\n",
    "res_bkd_mm = mod_bkd_mm.fit()\n",
    "res_bkd_mm.summary()"
   ]
  },
  {
   "cell_type": "markdown",
   "metadata": {},
   "source": [
    "The logistic regression model was used to see if income and showing an ad (ad) increase the likelihood of a customer booking an M&M property (bkd_mm). The results show that:\n",
    "\n",
    "•  Income: Higher income significantly increases the likelihood of booking an M&M property. This means that as a customer's income goes up, they are more likely to book an M&M property.\n",
    "\n",
    "•  Ad: Showing an ad does not have a significant impact on the likelihood of booking an M&M property. This means that whether or not a customer sees an ad doesn't strongly affect their decision to book."
   ]
  },
  {
   "cell_type": "code",
   "execution_count": 29,
   "metadata": {},
   "outputs": [
    {
     "data": {
      "text/html": [
       "<div>\n",
       "<style scoped>\n",
       "    .dataframe tbody tr th:only-of-type {\n",
       "        vertical-align: middle;\n",
       "    }\n",
       "\n",
       "    .dataframe tbody tr th {\n",
       "        vertical-align: top;\n",
       "    }\n",
       "\n",
       "    .dataframe thead th {\n",
       "        text-align: right;\n",
       "    }\n",
       "</style>\n",
       "<table border=\"1\" class=\"dataframe\">\n",
       "  <thead>\n",
       "    <tr style=\"text-align: right;\">\n",
       "      <th></th>\n",
       "      <th></th>\n",
       "      <th>avg_income</th>\n",
       "    </tr>\n",
       "    <tr>\n",
       "      <th>ad</th>\n",
       "      <th>mm</th>\n",
       "      <th></th>\n",
       "    </tr>\n",
       "  </thead>\n",
       "  <tbody>\n",
       "    <tr>\n",
       "      <th rowspan=\"2\" valign=\"top\">0</th>\n",
       "      <th>0</th>\n",
       "      <td>6.541963e+04</td>\n",
       "    </tr>\n",
       "    <tr>\n",
       "      <th>1</th>\n",
       "      <td>1.098118e+06</td>\n",
       "    </tr>\n",
       "    <tr>\n",
       "      <th rowspan=\"2\" valign=\"top\">1</th>\n",
       "      <th>0</th>\n",
       "      <td>2.236217e+04</td>\n",
       "    </tr>\n",
       "    <tr>\n",
       "      <th>1</th>\n",
       "      <td>1.936380e+04</td>\n",
       "    </tr>\n",
       "  </tbody>\n",
       "</table>\n",
       "</div>"
      ],
      "text/plain": [
       "         avg_income\n",
       "ad mm              \n",
       "0  0   6.541963e+04\n",
       "   1   1.098118e+06\n",
       "1  0   2.236217e+04\n",
       "   1   1.936380e+04"
      ]
     },
     "execution_count": 29,
     "metadata": {},
     "output_type": "execute_result"
    }
   ],
   "source": [
    "# Customers considering an M&M property after seeing the ad have a lower income than customers \n",
    "# considering an M&M property without having seen the ad\n",
    "df.groupby(['ad', 'mm']).agg(avg_income = ('income', lambda x: np.mean(x)))"
   ]
  },
  {
   "cell_type": "markdown",
   "metadata": {},
   "source": [
    "The ad was effective at driving more customers to consider an M&M property across the board (i.e. irrespective of income). However, because there are more customers with a lower income than with a higher income, this added proportionately more lower-income customers to the pool of customers considering an M&M property. These lower-income customers have a lower likelihood to book a property, so the average booking rate across customers considering an M&M property decreased. In other words, the mix of customers considering an M&M property changed, but the individual probability that a customer would consider and book an M&M property increased. This ad is a resounding success!"
   ]
  },
  {
   "cell_type": "markdown",
   "metadata": {},
   "source": []
  }
 ],
 "metadata": {
  "kernelspec": {
   "display_name": "myenv",
   "language": "python",
   "name": "python3"
  },
  "language_info": {
   "codemirror_mode": {
    "name": "ipython",
    "version": 3
   },
   "file_extension": ".py",
   "mimetype": "text/x-python",
   "name": "python",
   "nbconvert_exporter": "python",
   "pygments_lexer": "ipython3",
   "version": "3.10.8"
  }
 },
 "nbformat": 4,
 "nbformat_minor": 2
}
